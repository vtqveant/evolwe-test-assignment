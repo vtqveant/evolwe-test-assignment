{
 "cells": [
  {
   "cell_type": "markdown",
   "id": "c71245f6",
   "metadata": {},
   "source": [
    "## Оценка качества модели"
   ]
  },
  {
   "cell_type": "markdown",
   "id": "66b3d7a6",
   "metadata": {},
   "source": [
    "1. Стандартные метрики для мультиклассовой классификации: accuracy, precision, recall, F1, ROC-AUC (в One-vs-Rest режиме). Обсуждение применимости в нашем случае (датасет не сбалансирован, ROC-AUC не применим, ориентируюсь на F1). См.: [метрики](https://towardsdatascience.com/comprehensive-guide-on-multiclass-classification-metrics-af94cfb83fbd), \n",
    "[метрики в scikit-learn](https://towardsdatascience.com/comprehensive-guide-to-multiclass-classification-with-sklearn-127cc500f362)\n",
    "2. Кросс-валидация\n",
    "3. Обсудить про [SNIPS benchmark](https://paperswithcode.com/sota/intent-detection-on-snips) и возможность transfer-learning SoTA-модели по SNIPS на наш датасет."
   ]
  },
  {
   "cell_type": "markdown",
   "id": "f42d81ce",
   "metadata": {},
   "source": [
    "На имеющемся датасете я по сути ожидаю увидеть только оверфиттинг базовой модели (BertForSequenceClassification): здесь 71 класс на 483 примера, ср. SNIPS Benchmark -- 16000 примеров, 7 классов."
   ]
  },
  {
   "cell_type": "code",
   "execution_count": null,
   "id": "a3350177",
   "metadata": {},
   "outputs": [],
   "source": []
  }
 ],
 "metadata": {
  "kernelspec": {
   "display_name": "Python 3 (ipykernel)",
   "language": "python",
   "name": "python3"
  },
  "language_info": {
   "codemirror_mode": {
    "name": "ipython",
    "version": 3
   },
   "file_extension": ".py",
   "mimetype": "text/x-python",
   "name": "python",
   "nbconvert_exporter": "python",
   "pygments_lexer": "ipython3",
   "version": "3.8.10"
  }
 },
 "nbformat": 4,
 "nbformat_minor": 5
}
